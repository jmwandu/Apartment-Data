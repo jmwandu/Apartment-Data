{
 "cells": [
  {
   "cell_type": "code",
   "execution_count": 1,
   "metadata": {},
   "outputs": [],
   "source": [
    "from selenium import webdriver\n",
    "from selenium.webdriver.common.keys import Keys\n",
    "from selenium.common.exceptions import StaleElementReferenceException, NoSuchElementException\n",
    "import pandas as pd\n",
    "import time"
   ]
  },
  {
   "cell_type": "code",
   "execution_count": 2,
   "metadata": {},
   "outputs": [],
   "source": [
    "driver = webdriver.Chrome()\n",
    "driver.get(\"https://www.apartments.com/\")"
   ]
  },
  {
   "cell_type": "code",
   "execution_count": 3,
   "metadata": {},
   "outputs": [],
   "source": [
    "home_search_bar = driver.find_element_by_xpath(\"/html/body/div[1]/div/section[1]/div[1]/section/div/div/input\")\n",
    "home_search_bar.send_keys(\"Seattle\")\n",
    "home_search_bar.send_keys(Keys.RETURN)\n",
    "home_search_button = driver.find_element_by_xpath('//*[@id=\"quickSearch\"]/div/div/a')\n",
    "home_search_button.click()\n",
    "time.sleep(1)"
   ]
  },
  {
   "cell_type": "code",
   "execution_count": 4,
   "metadata": {},
   "outputs": [
    {
     "name": "stdout",
     "output_type": "stream",
     "text": [
      "No more pages remaining exiting loop\n",
      "760 vendors discovered\n"
     ]
    }
   ],
   "source": [
    "listing_info = []\n",
    "while True:\n",
    "    apartmentslist = driver.find_element_by_xpath('//*[@id=\"placardContainer\"]/ul')\n",
    "    listing_links = apartmentslist.find_elements_by_tag_name(\"article\")\n",
    "    for article in listing_links:\n",
    "        a_tag = article.find_element_by_tag_name(\"a\")\n",
    "        listing_info.append(a_tag.get_attribute(\"href\"))\n",
    "    try:\n",
    "        nextbtn = driver.find_element_by_css_selector(\"a.next\")\n",
    "        nextbtn.click()\n",
    "        time.sleep(1)\n",
    "    except:\n",
    "        print(\"No more pages remaining exiting loop\")\n",
    "        print(str(len(listing_info)) + \" vendors discovered\")\n",
    "        break"
   ]
  },
  {
   "cell_type": "code",
   "execution_count": 5,
   "metadata": {},
   "outputs": [],
   "source": [
    "properties = {\"property Name\": [], \"address\":[], \"city\":[], \"state\":[], \"zip\":[], \"neighborhood\":[], \"link\":[], \"walk\":[], \"transit\":[], \"bike\":[], \"sound\":[]}\n",
    "listing = {\"property Name\":[], \"unit\":[], \"rent\":[], \"bedrooms\":[], \"bathrooms\":[], \"squarefeet\":[], \"availibility\":[]}"
   ]
  },
  {
   "cell_type": "code",
   "execution_count": 6,
   "metadata": {},
   "outputs": [],
   "source": [
    "for link in range(len(listing_info)):\n",
    "    \n",
    "    propname=\"\"\n",
    "    try:\n",
    "        driver.get(listing_info[link])\n",
    "        propname = driver.find_element_by_class_name(\"propertyNameRow\").text\n",
    "    except:\n",
    "        continue   \n",
    "        \n",
    "    properties[\"link\"].append(listing_info[link])\n",
    "    properties[\"property Name\"].append(propname)\n",
    "    address = driver.find_element_by_class_name(\"propertyAddressContainer\").text.split(\", \")\n",
    "    statezipneighborhood = address[2].split('\\n')\n",
    "    statezip = statezipneighborhood[0].split()\n",
    "    properties[\"address\"].append(address[0])\n",
    "    properties[\"city\"].append(address[1])\n",
    "    properties[\"state\"].append(statezip[0])\n",
    "    properties[\"zip\"].append(statezip[1])\n",
    "    properties[\"neighborhood\"].append(statezipneighborhood[1])\n",
    "    \n",
    "    ht = [\".1\",\".2\",\".3\",\".4\",\".5\",\".6\",\".7\",\".8\",\".9\",\"1\"]\n",
    "    for h in ht: \n",
    "        driver.execute_script(\"window.scrollTo(0,document.body.scrollHeight*{})\".format(h))\n",
    "        time.sleep(.25)   \n",
    "\n",
    "    score = driver.find_elements_by_class_name(\"score\") \n",
    "    #maping [0] = walk, [1] = transit, [2] = bike, [3] = sound\n",
    "    try:\n",
    "        properties[\"walk\"].append(score[0].text)\n",
    "    except:\n",
    "        properties[\"walk\"].append(None)\n",
    "    try:\n",
    "        properties[\"transit\"].append(score[1].text)\n",
    "    except:\n",
    "        properties[\"transit\"].append(None)\n",
    "    try:\n",
    "        properties[\"bike\"].append(score[2].text)\n",
    "    except:\n",
    "        properties[\"bike\"].append(None)\n",
    "    try:\n",
    "        properties[\"sound\"].append(score[3].text)\n",
    "    except:\n",
    "        properties[\"sound\"].append(None)\n",
    "        \n",
    "    driver.execute_script(\"window.scrollTo(0,0)\")\n",
    "\n",
    "    try:\n",
    "        types = driver.find_element_by_xpath('//*[@id=\"bedsFilterContainer\"]/ul')\n",
    "        tabs = types.find_elements_by_tag_name(\"li\")\n",
    "        for tab in tabs[1:]:\n",
    "            tab.click()\n",
    "            grids = driver.find_elements_by_class_name(\"pricingGridItem\")\n",
    "            for grid in grids:\n",
    "                rentals = grid.find_elements_by_class_name(\"grid-container\")\n",
    "                for r in rentals:\n",
    "                    info = r.text.split(\"\\n\")\n",
    "                    if len(info) > 4:\n",
    "                        listing[\"bedrooms\"].append(tab.get_attribute(\"data-tab-id\")[3:])\n",
    "                        listing[\"bathrooms\"].append(\n",
    "                            grid.find_element_by_class_name(\"detailsTextWrapper\").text.split(\",\")[1].split()[0])\n",
    "                        listing[\"unit\"].append(info[1])\n",
    "                        listing[\"rent\"].append(info[3])\n",
    "                        listing[\"squarefeet\"].append(info[5])\n",
    "                        listing[\"availibility\"].append(info[7])\n",
    "                        listing[\"property Name\"].append(propname)\n",
    "    except:\n",
    "        try:\n",
    "            grid = driver.find_element_by_class_name(\"pricingGridItem\")\n",
    "            info = grid.find_element_by_class_name(\"detailsLabel\").text.split()\n",
    "            listing[\"bedrooms\"].append(info[0])\n",
    "            listing[\"bathrooms\"].append(info[2])\n",
    "            listing[\"unit\"].append(grid.find_element_by_class_name(\"modelName\").text)\n",
    "            listing[\"rent\"].append(grid.find_element_by_class_name(\"rentLabel\").text)\n",
    "            listing[\"squarefeet\"].append(info[4])\n",
    "            listing[\"availibility\"].append(info[-2]+\" \"+info[-1])\n",
    "            listing[\"property Name\"].append(propname)\n",
    "        except:\n",
    "            for key in properties.keys():\n",
    "                del properties[key][-1]\n",
    "            continue"
   ]
  },
  {
   "cell_type": "code",
   "execution_count": 8,
   "metadata": {},
   "outputs": [],
   "source": [
    "properties_df = pd.DataFrame(data= properties)\n",
    "\n",
    "listing_df = pd.DataFrame(data= listing)"
   ]
  },
  {
   "cell_type": "code",
   "execution_count": 12,
   "metadata": {},
   "outputs": [],
   "source": [
    "from datetime import datetime\n",
    "properties_df.to_csv('Seattle Properties '+ str(datetime.now()).replace(\":\", \" \").replace(\".\", \" \") +\".csv\")\n",
    "listing_df.to_csv('Seattle listings '+ str(datetime.now()).replace(\":\", \" \").replace(\".\", \" \") +\".csv\")"
   ]
  },
  {
   "cell_type": "code",
   "execution_count": 10,
   "metadata": {},
   "outputs": [],
   "source": [
    "driver.close()"
   ]
  }
 ],
 "metadata": {
  "kernelspec": {
   "display_name": "workstation",
   "language": "python",
   "name": "workstation"
  },
  "language_info": {
   "codemirror_mode": {
    "name": "ipython",
    "version": 3
   },
   "file_extension": ".py",
   "mimetype": "text/x-python",
   "name": "python",
   "nbconvert_exporter": "python",
   "pygments_lexer": "ipython3",
   "version": "3.10.0"
  }
 },
 "nbformat": 4,
 "nbformat_minor": 4
}
