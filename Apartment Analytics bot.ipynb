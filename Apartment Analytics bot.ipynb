{
 "cells": [
  {
   "cell_type": "code",
   "execution_count": 64,
   "metadata": {},
   "outputs": [],
   "source": [
    "import pandas as pd\n",
    "import matplotlib as plt\n",
    "import numpy as np"
   ]
  },
  {
   "cell_type": "code",
   "execution_count": 2,
   "metadata": {},
   "outputs": [],
   "source": [
    "properties_df = pd.read_csv(\"Seattle Properties 2022-03-02 10 33 22 232776.csv\")\n",
    "listing_df = pd.read_csv(\"Seattle listings 2022-03-02 10 33 22 237775.csv\")"
   ]
  },
  {
   "cell_type": "code",
   "execution_count": 8,
   "metadata": {},
   "outputs": [
    {
     "name": "stdout",
     "output_type": "stream",
     "text": [
      "             walk     transit        bike       sound\n",
      "count  640.000000  640.000000  640.000000  617.000000\n",
      "mean    88.112500   72.989063   78.046875   67.429498\n",
      "std     15.535708   19.269480   12.079976    4.115457\n",
      "min     15.000000    4.000000   27.000000   58.000000\n",
      "25%     85.000000   57.000000   71.000000   64.000000\n",
      "50%     94.000000   72.000000   80.000000   68.000000\n",
      "75%     98.000000   88.000000   86.250000   70.000000\n",
      "max    100.000000  100.000000   99.000000   80.000000\n"
     ]
    }
   ],
   "source": [
    "print(properties_df[['walk','transit','bike','sound']].describe())"
   ]
  },
  {
   "cell_type": "code",
   "execution_count": 23,
   "metadata": {},
   "outputs": [
    {
     "name": "stderr",
     "output_type": "stream",
     "text": [
      "C:\\Users\\jmwan\\AppData\\Local\\Temp/ipykernel_21600/2718079344.py:1: FutureWarning: The default value of regex will change from True to False in a future version. In addition, single character regular expressions will *not* be treated as literal strings when regex=True.\n",
      "  listing_df['rent'] = listing_df['rent'].str.replace(\"$\",\"\")\n"
     ]
    }
   ],
   "source": [
    "listing_df['rent'] = listing_df['rent'].str.replace(\"$\",\"\")\n",
    "listing_df['rent'] = listing_df['rent'].str.replace(\",\",\"\")"
   ]
  },
  {
   "cell_type": "code",
   "execution_count": 75,
   "metadata": {},
   "outputs": [
    {
     "name": "stdout",
     "output_type": "stream",
     "text": [
      "1899 / Person\n"
     ]
    },
    {
     "name": "stderr",
     "output_type": "stream",
     "text": [
      "C:\\Users\\jmwan\\AppData\\Local\\Temp/ipykernel_21600/3183297920.py:9: SettingWithCopyWarning: \n",
      "A value is trying to be set on a copy of a slice from a DataFrame\n",
      "\n",
      "See the caveats in the documentation: https://pandas.pydata.org/pandas-docs/stable/user_guide/indexing.html#returning-a-view-versus-a-copy\n",
      "  listing_df['rent'][idx] = rent\n"
     ]
    }
   ],
   "source": [
    "for idx, rent in listing_df['rent'].iteritems():\n",
    "    rent = str(rent)\n",
    "    if \"Call for Rent\" == rent:\n",
    "        listing_df['rent'][idx] = np.nan\n",
    "        \n",
    "    if \" / Person\" in rent:\n",
    "        print(rent)\n",
    "        rent = rent.split(\" / \")[0]\n",
    "        listing_df['rent'][idx] = rent\n",
    "\n",
    "    if \" – \" in rent:        \n",
    "        values = rent.split(\" – \")\n",
    "        avg = (int(values[0]) + int(values[1])) / 2\n",
    "        rent = avg\n",
    "        listing_df['rent'][idx] = rent"
   ]
  },
  {
   "cell_type": "code",
   "execution_count": 77,
   "metadata": {},
   "outputs": [
    {
     "data": {
      "text/plain": [
       "count     4792\n",
       "unique    1761\n",
       "top       1214\n",
       "freq        64\n",
       "Name: rent, dtype: object"
      ]
     },
     "execution_count": 77,
     "metadata": {},
     "output_type": "execute_result"
    }
   ],
   "source": [
    "listing_df[\"rent\"].astype('float')()"
   ]
  },
  {
   "cell_type": "code",
   "execution_count": 30,
   "metadata": {},
   "outputs": [
    {
     "name": "stdout",
     "output_type": "stream",
     "text": [
      "        Unnamed: 0\n",
      "count  3945.000000\n",
      "mean   2410.148289\n",
      "std    1379.481572\n",
      "min       0.000000\n",
      "25%    1214.000000\n",
      "50%    2396.000000\n",
      "75%    3575.000000\n",
      "max    4811.000000\n"
     ]
    }
   ],
   "source": [
    "print(listing_df[['rent', 'bedrooms', 'bathrooms', 'squarefeet']].describe())"
   ]
  }
 ],
 "metadata": {
  "kernelspec": {
   "display_name": "workstation",
   "language": "python",
   "name": "workstation"
  },
  "language_info": {
   "codemirror_mode": {
    "name": "ipython",
    "version": 3
   },
   "file_extension": ".py",
   "mimetype": "text/x-python",
   "name": "python",
   "nbconvert_exporter": "python",
   "pygments_lexer": "ipython3",
   "version": "3.10.0"
  }
 },
 "nbformat": 4,
 "nbformat_minor": 4
}
